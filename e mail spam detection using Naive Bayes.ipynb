{
 "cells": [
  {
   "cell_type": "markdown",
   "id": "c42e4767",
   "metadata": {},
   "source": [
    "# NAIVE BAYES CLASSIFIER"
   ]
  },
  {
   "cell_type": "markdown",
   "id": "ac6c8e9c",
   "metadata": {},
   "source": [
    "E MAIL SPAM DETECTION USING NAIVE BAYES CLASSIFIER"
   ]
  },
  {
   "cell_type": "markdown",
   "id": "a49dded8",
   "metadata": {},
   "source": [
    "The Naïve Bayes classifier is a supervised machine learning algorithm, which is used for classification tasks, \n",
    "like text classification.It predicts on the basis of the probability of an object."
   ]
  },
  {
   "cell_type": "markdown",
   "id": "5a1d9a6e",
   "metadata": {},
   "source": [
    "The algorithm is called Naïve because it assumes that the occurrence of a certain feature is \n",
    "independent of the occurrence of other features.It is based on the Bayes Theorem. \n",
    "Hence, the algorithm is called \"Naïve Bayes\""
   ]
  },
  {
   "cell_type": "markdown",
   "id": "3f35a430",
   "metadata": {},
   "source": [
    "STEP 1 : Import hte library that we require for this purpose"
   ]
  },
  {
   "cell_type": "code",
   "execution_count": 1,
   "id": "42fbb140",
   "metadata": {},
   "outputs": [],
   "source": [
    "import pandas as pd"
   ]
  },
  {
   "cell_type": "markdown",
   "id": "b74e1d90",
   "metadata": {},
   "source": [
    "STEP 2: Load the dataset(in csv format) and convert it as a dataframe(df)"
   ]
  },
  {
   "cell_type": "code",
   "execution_count": 2,
   "id": "a490d210",
   "metadata": {},
   "outputs": [],
   "source": [
    "df = pd.read_csv(\"spam.csv\")"
   ]
  },
  {
   "cell_type": "markdown",
   "id": "b8630d25",
   "metadata": {},
   "source": [
    "Lets print the head of the dataframe(first 5 rows)"
   ]
  },
  {
   "cell_type": "code",
   "execution_count": 3,
   "id": "128ba57c",
   "metadata": {},
   "outputs": [
    {
     "data": {
      "text/html": [
       "<div>\n",
       "<style scoped>\n",
       "    .dataframe tbody tr th:only-of-type {\n",
       "        vertical-align: middle;\n",
       "    }\n",
       "\n",
       "    .dataframe tbody tr th {\n",
       "        vertical-align: top;\n",
       "    }\n",
       "\n",
       "    .dataframe thead th {\n",
       "        text-align: right;\n",
       "    }\n",
       "</style>\n",
       "<table border=\"1\" class=\"dataframe\">\n",
       "  <thead>\n",
       "    <tr style=\"text-align: right;\">\n",
       "      <th></th>\n",
       "      <th>Category</th>\n",
       "      <th>Message</th>\n",
       "    </tr>\n",
       "  </thead>\n",
       "  <tbody>\n",
       "    <tr>\n",
       "      <th>0</th>\n",
       "      <td>ham</td>\n",
       "      <td>Go until jurong point, crazy.. Available only ...</td>\n",
       "    </tr>\n",
       "    <tr>\n",
       "      <th>1</th>\n",
       "      <td>ham</td>\n",
       "      <td>Ok lar... Joking wif u oni...</td>\n",
       "    </tr>\n",
       "    <tr>\n",
       "      <th>2</th>\n",
       "      <td>spam</td>\n",
       "      <td>Free entry in 2 a wkly comp to win FA Cup fina...</td>\n",
       "    </tr>\n",
       "    <tr>\n",
       "      <th>3</th>\n",
       "      <td>ham</td>\n",
       "      <td>U dun say so early hor... U c already then say...</td>\n",
       "    </tr>\n",
       "    <tr>\n",
       "      <th>4</th>\n",
       "      <td>ham</td>\n",
       "      <td>Nah I don't think he goes to usf, he lives aro...</td>\n",
       "    </tr>\n",
       "  </tbody>\n",
       "</table>\n",
       "</div>"
      ],
      "text/plain": [
       "  Category                                            Message\n",
       "0      ham  Go until jurong point, crazy.. Available only ...\n",
       "1      ham                      Ok lar... Joking wif u oni...\n",
       "2     spam  Free entry in 2 a wkly comp to win FA Cup fina...\n",
       "3      ham  U dun say so early hor... U c already then say...\n",
       "4      ham  Nah I don't think he goes to usf, he lives aro..."
      ]
     },
     "execution_count": 3,
     "metadata": {},
     "output_type": "execute_result"
    }
   ],
   "source": [
    "df.head()"
   ]
  },
  {
   "cell_type": "markdown",
   "id": "b638298b",
   "metadata": {},
   "source": [
    "In the given dataset : \n",
    "    SPAM is denoted as Bad mail\n",
    "    HAM is denoted as Good mail"
   ]
  },
  {
   "cell_type": "markdown",
   "id": "c98afe01",
   "metadata": {},
   "source": [
    "Lets explore the data"
   ]
  },
  {
   "cell_type": "markdown",
   "id": "3ea56ffc",
   "metadata": {},
   "source": [
    "STEP 3: Now,lets categorize the mails on spam - ham basis"
   ]
  },
  {
   "cell_type": "code",
   "execution_count": 4,
   "id": "77b8f0ef",
   "metadata": {},
   "outputs": [
    {
     "data": {
      "text/html": [
       "<div>\n",
       "<style scoped>\n",
       "    .dataframe tbody tr th:only-of-type {\n",
       "        vertical-align: middle;\n",
       "    }\n",
       "\n",
       "    .dataframe tbody tr th {\n",
       "        vertical-align: top;\n",
       "    }\n",
       "\n",
       "    .dataframe thead tr th {\n",
       "        text-align: left;\n",
       "    }\n",
       "\n",
       "    .dataframe thead tr:last-of-type th {\n",
       "        text-align: right;\n",
       "    }\n",
       "</style>\n",
       "<table border=\"1\" class=\"dataframe\">\n",
       "  <thead>\n",
       "    <tr>\n",
       "      <th></th>\n",
       "      <th colspan=\"4\" halign=\"left\">Message</th>\n",
       "    </tr>\n",
       "    <tr>\n",
       "      <th></th>\n",
       "      <th>count</th>\n",
       "      <th>unique</th>\n",
       "      <th>top</th>\n",
       "      <th>freq</th>\n",
       "    </tr>\n",
       "    <tr>\n",
       "      <th>Category</th>\n",
       "      <th></th>\n",
       "      <th></th>\n",
       "      <th></th>\n",
       "      <th></th>\n",
       "    </tr>\n",
       "  </thead>\n",
       "  <tbody>\n",
       "    <tr>\n",
       "      <th>ham</th>\n",
       "      <td>4825</td>\n",
       "      <td>4516</td>\n",
       "      <td>Sorry, I'll call later</td>\n",
       "      <td>30</td>\n",
       "    </tr>\n",
       "    <tr>\n",
       "      <th>spam</th>\n",
       "      <td>747</td>\n",
       "      <td>641</td>\n",
       "      <td>Please call our customer service representativ...</td>\n",
       "      <td>4</td>\n",
       "    </tr>\n",
       "  </tbody>\n",
       "</table>\n",
       "</div>"
      ],
      "text/plain": [
       "         Message                                                            \\\n",
       "           count unique                                                top   \n",
       "Category                                                                     \n",
       "ham         4825   4516                             Sorry, I'll call later   \n",
       "spam         747    641  Please call our customer service representativ...   \n",
       "\n",
       "               \n",
       "         freq  \n",
       "Category       \n",
       "ham        30  \n",
       "spam        4  "
      ]
     },
     "execution_count": 4,
     "metadata": {},
     "output_type": "execute_result"
    }
   ],
   "source": [
    "df.groupby(\"Category\").describe()"
   ]
  },
  {
   "cell_type": "markdown",
   "id": "19355c07",
   "metadata": {},
   "source": [
    "From the above result it is shown that there are 4825 ham and 747 spam mails."
   ]
  },
  {
   "cell_type": "markdown",
   "id": "59cb93bf",
   "metadata": {},
   "source": [
    "Now for applying the algorithm we have to process the datas into numericals, since machines only understand numericals."
   ]
  },
  {
   "cell_type": "markdown",
   "id": "e38ce1f8",
   "metadata": {},
   "source": [
    "STEP 4 :For that we denote SPAM messages using '1' and HAM messages using '0'"
   ]
  },
  {
   "cell_type": "code",
   "execution_count": 5,
   "id": "25e62aef",
   "metadata": {},
   "outputs": [],
   "source": [
    "df[\"spam\"] = df[\"Category\"].apply(lambda x: 1 if x==\"spam\" else 0)"
   ]
  },
  {
   "cell_type": "markdown",
   "id": "467a2aeb",
   "metadata": {},
   "source": [
    "STEP 5: Divide the dataframe into input(x) and output(y)"
   ]
  },
  {
   "cell_type": "code",
   "execution_count": 6,
   "id": "ae44a2e0",
   "metadata": {},
   "outputs": [],
   "source": [
    "x=df.Message\n",
    "y=df.spam"
   ]
  },
  {
   "cell_type": "markdown",
   "id": "317293e6",
   "metadata": {},
   "source": [
    "STEP 6: Lets do the train_test_split. Import the library "
   ]
  },
  {
   "cell_type": "code",
   "execution_count": 7,
   "id": "ee2ecaf8",
   "metadata": {},
   "outputs": [],
   "source": [
    "from sklearn.model_selection import train_test_split"
   ]
  },
  {
   "cell_type": "markdown",
   "id": "14c1958e",
   "metadata": {},
   "source": [
    "STEP 7: Split the data into data for training and data for testing using train_test_split method"
   ]
  },
  {
   "cell_type": "code",
   "execution_count": 8,
   "id": "135ddd3b",
   "metadata": {},
   "outputs": [],
   "source": [
    "x_train,x_test,y_train,y_test = train_test_split(x,y,test_size=0.2)"
   ]
  },
  {
   "cell_type": "markdown",
   "id": "2b07f853",
   "metadata": {},
   "source": [
    "View the trained data"
   ]
  },
  {
   "cell_type": "code",
   "execution_count": 9,
   "id": "19999dd9",
   "metadata": {},
   "outputs": [
    {
     "data": {
      "text/plain": [
       "2279    Hmm...Bad news...Hype park plaza $700 studio t...\n",
       "2684    I'm okay. Chasing the dream. What's good. What...\n",
       "1747    I don know account details..i will ask my mom ...\n",
       "2455         Left dessert. U wan me 2 go suntec look 4 u?\n",
       "4915    You've already got a flaky parent. It'snot sup...\n",
       "                              ...                        \n",
       "443     Oic... I saw him too but i tot he din c me... ...\n",
       "5367    Just trying to figure out when I'm suppose to ...\n",
       "5422              Ok k..sry i knw 2 siva..tats y i askd..\n",
       "2260                 Ill call you evening ill some ideas.\n",
       "2512                                  Er yep sure. Props?\n",
       "Name: Message, Length: 4457, dtype: object"
      ]
     },
     "execution_count": 9,
     "metadata": {},
     "output_type": "execute_result"
    }
   ],
   "source": [
    "x_train"
   ]
  },
  {
   "cell_type": "markdown",
   "id": "4dfbf2b7",
   "metadata": {},
   "source": [
    "view the test data"
   ]
  },
  {
   "cell_type": "code",
   "execution_count": 10,
   "id": "d7348d86",
   "metadata": {},
   "outputs": [
    {
     "data": {
      "text/plain": [
       "5213                               3 pa but not selected.\n",
       "984     LOOK AT THE FUCKIN TIME. WHAT THE FUCK YOU THI...\n",
       "625     Nah it's straight, if you can just bring bud o...\n",
       "2048    No de. But call me after some time. Ill tell y...\n",
       "1046                                   Come round, it's .\n",
       "                              ...                        \n",
       "4682                            Are you staying in town ?\n",
       "3602                         Jay told me already, will do\n",
       "608     what I meant to say is cant wait to see u agai...\n",
       "5202             WOT STUDENT DISCOUNT CAN U GET ON BOOKS?\n",
       "4911    WE REGRET TO INFORM U THAT THE NHS HAS MADE A ...\n",
       "Name: Message, Length: 1115, dtype: object"
      ]
     },
     "execution_count": 10,
     "metadata": {},
     "output_type": "execute_result"
    }
   ],
   "source": [
    "x_test"
   ]
  },
  {
   "cell_type": "markdown",
   "id": "a1fa8c5b",
   "metadata": {},
   "source": [
    "view the trained y part"
   ]
  },
  {
   "cell_type": "code",
   "execution_count": 11,
   "id": "0e326a05",
   "metadata": {},
   "outputs": [
    {
     "data": {
      "text/plain": [
       "2279    0\n",
       "2684    0\n",
       "1747    0\n",
       "2455    0\n",
       "4915    0\n",
       "       ..\n",
       "443     0\n",
       "5367    0\n",
       "5422    0\n",
       "2260    0\n",
       "2512    0\n",
       "Name: spam, Length: 4457, dtype: int64"
      ]
     },
     "execution_count": 11,
     "metadata": {},
     "output_type": "execute_result"
    }
   ],
   "source": [
    "y_train"
   ]
  },
  {
   "cell_type": "markdown",
   "id": "2aec0105",
   "metadata": {},
   "source": [
    "View the tested y part"
   ]
  },
  {
   "cell_type": "code",
   "execution_count": 12,
   "id": "7f767eb4",
   "metadata": {},
   "outputs": [
    {
     "data": {
      "text/plain": [
       "5213    0\n",
       "984     0\n",
       "625     0\n",
       "2048    0\n",
       "1046    0\n",
       "       ..\n",
       "4682    0\n",
       "3602    0\n",
       "608     0\n",
       "5202    0\n",
       "4911    0\n",
       "Name: spam, Length: 1115, dtype: int64"
      ]
     },
     "execution_count": 12,
     "metadata": {},
     "output_type": "execute_result"
    }
   ],
   "source": [
    "y_test"
   ]
  },
  {
   "cell_type": "markdown",
   "id": "c481147e",
   "metadata": {},
   "source": [
    "Still the message column has text data htat canoot be processed by computer so we have to convert it into numerical format"
   ]
  },
  {
   "cell_type": "markdown",
   "id": "ff0bf321",
   "metadata": {},
   "source": [
    "For that here we use count VECTORIZER method"
   ]
  },
  {
   "cell_type": "code",
   "execution_count": 13,
   "id": "5b3417eb",
   "metadata": {},
   "outputs": [],
   "source": [
    "from sklearn.feature_extraction.text import CountVectorizer"
   ]
  },
  {
   "cell_type": "code",
   "execution_count": 14,
   "id": "222a1bd6",
   "metadata": {},
   "outputs": [],
   "source": [
    "v = CountVectorizer()"
   ]
  },
  {
   "cell_type": "markdown",
   "id": "2a9955e5",
   "metadata": {},
   "source": [
    "STEP 8: Use fit and transform method "
   ]
  },
  {
   "cell_type": "code",
   "execution_count": 15,
   "id": "d2601c53",
   "metadata": {},
   "outputs": [],
   "source": [
    "x_train_count = v.fit_transform(x_train.values)"
   ]
  },
  {
   "cell_type": "markdown",
   "id": "412c5bdc",
   "metadata": {},
   "source": [
    "To convert it into an array format we use toarray() method"
   ]
  },
  {
   "cell_type": "code",
   "execution_count": 16,
   "id": "8d4fe91b",
   "metadata": {},
   "outputs": [
    {
     "data": {
      "text/plain": [
       "array([[0, 0, 0, ..., 0, 0, 0],\n",
       "       [0, 0, 0, ..., 0, 0, 0],\n",
       "       [0, 0, 0, ..., 0, 0, 0],\n",
       "       ...,\n",
       "       [0, 0, 0, ..., 0, 0, 0],\n",
       "       [0, 0, 0, ..., 0, 0, 0],\n",
       "       [0, 0, 0, ..., 0, 0, 0]], dtype=int64)"
      ]
     },
     "execution_count": 16,
     "metadata": {},
     "output_type": "execute_result"
    }
   ],
   "source": [
    "x_train_count.toarray()"
   ]
  },
  {
   "cell_type": "markdown",
   "id": "e83776ad",
   "metadata": {},
   "source": [
    "The above given is the converted array format"
   ]
  },
  {
   "cell_type": "markdown",
   "id": "4ca5e2a8",
   "metadata": {},
   "source": [
    "There are 3 types of Naive Bayes algorithm \n",
    " 1. Bernoulli's NB:if features are binary eg:gender(M/F)\n",
    " 2. Multinomial NB: if features are discrete \n",
    " 3. Gausssian NB: if features are continous\n",
    "\n",
    "here we use multinomial NB"
   ]
  },
  {
   "cell_type": "markdown",
   "id": "06288802",
   "metadata": {},
   "source": [
    "Here, we are dealing with datas containing multiple and discrete values. Hence, we use Multinomial Naïve Bayes Algorithm."
   ]
  },
  {
   "cell_type": "markdown",
   "id": "ec92c309",
   "metadata": {},
   "source": [
    "STEP 9: Import the library "
   ]
  },
  {
   "cell_type": "code",
   "execution_count": 17,
   "id": "26ff34ec",
   "metadata": {},
   "outputs": [],
   "source": [
    "from sklearn.naive_bayes import MultinomialNB"
   ]
  },
  {
   "cell_type": "markdown",
   "id": "4d8e03af",
   "metadata": {},
   "source": [
    "STEP 10: Create a model to check whether the algorithm is working properly"
   ]
  },
  {
   "cell_type": "code",
   "execution_count": 18,
   "id": "e9e0fa9b",
   "metadata": {},
   "outputs": [],
   "source": [
    "model = MultinomialNB()"
   ]
  },
  {
   "cell_type": "markdown",
   "id": "a2b38a7d",
   "metadata": {},
   "source": [
    "STEP 10: train the model"
   ]
  },
  {
   "cell_type": "code",
   "execution_count": 19,
   "id": "43287e96",
   "metadata": {},
   "outputs": [
    {
     "data": {
      "text/plain": [
       "MultinomialNB()"
      ]
     },
     "execution_count": 19,
     "metadata": {},
     "output_type": "execute_result"
    }
   ],
   "source": [
    "model.fit(x_train_count,y_train)"
   ]
  },
  {
   "cell_type": "markdown",
   "id": "8711ba03",
   "metadata": {},
   "source": [
    "STEP 11:Lets do a prediction"
   ]
  },
  {
   "cell_type": "code",
   "execution_count": 20,
   "id": "3467a028",
   "metadata": {},
   "outputs": [
    {
     "data": {
      "text/plain": [
       "array([0], dtype=int64)"
      ]
     },
     "execution_count": 20,
     "metadata": {},
     "output_type": "execute_result"
    }
   ],
   "source": [
    "email = ['i will call you later']\n",
    "email_count = v.transform(email)\n",
    "model.predict(email_count)"
   ]
  },
  {
   "cell_type": "markdown",
   "id": "9c04683e",
   "metadata": {},
   "source": [
    "Is a ham therefore 0 will be the value"
   ]
  },
  {
   "cell_type": "code",
   "execution_count": 21,
   "id": "8dbbb35f",
   "metadata": {},
   "outputs": [
    {
     "data": {
      "text/plain": [
       "array([1], dtype=int64)"
      ]
     },
     "execution_count": 21,
     "metadata": {},
     "output_type": "execute_result"
    }
   ],
   "source": [
    "email = ['you won prize of 100000']\n",
    "email_count = v.transform(email)\n",
    "model.predict(email_count)"
   ]
  },
  {
   "cell_type": "markdown",
   "id": "0b1b9962",
   "metadata": {},
   "source": [
    "Is a spam therefore 1 will be the value"
   ]
  }
 ],
 "metadata": {
  "kernelspec": {
   "display_name": "Python 3 (ipykernel)",
   "language": "python",
   "name": "python3"
  },
  "language_info": {
   "codemirror_mode": {
    "name": "ipython",
    "version": 3
   },
   "file_extension": ".py",
   "mimetype": "text/x-python",
   "name": "python",
   "nbconvert_exporter": "python",
   "pygments_lexer": "ipython3",
   "version": "3.9.13"
  }
 },
 "nbformat": 4,
 "nbformat_minor": 5
}
